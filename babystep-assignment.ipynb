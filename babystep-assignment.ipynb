{
 "cells": [
  {
   "cell_type": "code",
   "execution_count": 1,
   "id": "b1ea6cd7",
   "metadata": {},
   "outputs": [
    {
     "name": "stdout",
     "output_type": "stream",
     "text": [
      "Welcome to Assignment\n"
     ]
    }
   ],
   "source": [
    "print(\"Welcome to Assignment\")"
   ]
  },
  {
   "cell_type": "code",
   "execution_count": 1,
   "id": "98ee17e4",
   "metadata": {},
   "outputs": [],
   "source": [
    "Num1=10\n",
    "Num2=20\n",
    "Add=Num1+Num2"
   ]
  },
  {
   "cell_type": "code",
   "execution_count": 5,
   "id": "f7e56f63",
   "metadata": {},
   "outputs": [
    {
     "name": "stdout",
     "output_type": "stream",
     "text": [
      "Num1= 10\n",
      "Num2= 20\n",
      "Add= 30\n"
     ]
    }
   ],
   "source": [
    "print(\"Num1=\",Num1)\n",
    "print(\"Num2=\",Num2)\n",
    "print(\"Add=\",Add)"
   ]
  },
  {
   "cell_type": "code",
   "execution_count": 9,
   "id": "86df83e6",
   "metadata": {},
   "outputs": [
    {
     "name": "stdout",
     "output_type": "stream",
     "text": [
      "BODY MASS INDEX\n",
      "Enter BMI INDEX:25\n",
      "Over Weight\n"
     ]
    }
   ],
   "source": [
    "print(\"BODY MASS INDEX\")\n",
    "bmi=int(input(\"Enter BMI INDEX:\"))\n",
    "if(bmi<18.5):\n",
    "    print(\"Under Weight\")\n",
    "elif(bmi<24.9):\n",
    "    print(\"Normal Weight\")\n",
    "elif(bmi<29.9):\n",
    "    print(\"Over Weight\")\n",
    "elif(bmi<39.9):\n",
    "    print(\"Obesity\")\n",
    "else:\n",
    "    print(\"Extreme Obesity\")"
   ]
  },
  {
   "cell_type": "code",
   "execution_count": null,
   "id": "34af9d35",
   "metadata": {},
   "outputs": [],
   "source": []
  },
  {
   "cell_type": "code",
   "execution_count": null,
   "id": "6ba646ff",
   "metadata": {},
   "outputs": [],
   "source": []
  }
 ],
 "metadata": {
  "kernelspec": {
   "display_name": "Python 3 (ipykernel)",
   "language": "python",
   "name": "python3"
  },
  "language_info": {
   "codemirror_mode": {
    "name": "ipython",
    "version": 3
   },
   "file_extension": ".py",
   "mimetype": "text/x-python",
   "name": "python",
   "nbconvert_exporter": "python",
   "pygments_lexer": "ipython3",
   "version": "3.11.5"
  }
 },
 "nbformat": 4,
 "nbformat_minor": 5
}
